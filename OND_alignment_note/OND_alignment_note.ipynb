{
 "metadata": {
  "name": "OND_alignment_note"
 },
 "nbformat": 3,
 "nbformat_minor": 0,
 "worksheets": [
  {
   "cells": [
    {
     "cell_type": "markdown",
     "metadata": {},
     "source": [
      "Note for an implementation of Gene Myers' \"An O(ND) Difference Algorithm and Its Variations\"\n",
      "============================================================================================\n",
      "\n",
      "\n",
      "Author: Jason Chin\n",
      "\n",
      "Data: July 5, 2013"
     ]
    },
    {
     "cell_type": "markdown",
     "metadata": {},
     "source": [
      "Introduction\n",
      "------------\n",
      "\n",
      "This note is about a simple implementation of the algorithm developed by Gene Myers in 1986 (An O(ND) Difference Algorithm and Its Variations, Eugene W. Myers, Algorithmica Vol 1, pp. 251--266). A PDF copy of the paper can be found at http://neil.fraser.name/software/diff_match_patch/myers.pdf\n",
      "\n",
      "While this paper has been cited more than 600 times according to Google Scholar, I rarely read about this method in the recent literatures in bioinformatics. This method is very efficent for sequence alignments of very similar sequences.  It will be really useful for genome asssembly where the sequence reads are typically very close to the assembly and alignment are used for consensus rather than evolution comparison.  Unlikely the Smith-Waterman-like dynamic programming approach for sequence alignment, this method only concerns about editing distance rather than maximuming the \"alignment scores\".  The greedy nature makes it really effiecient if the difference between two sequences are small.  This notebook shows that is acutally working quite well even the differences are big.  However, for using it as a general purpose alignment tool for various bioinformatics tasks, some pre- or post- process might be needed.  It will be interesting to do some study to see how one can integrate such method into routine genome assembly workflow.  \n"
     ]
    },
    {
     "cell_type": "markdown",
     "metadata": {},
     "source": [
      "Generate simulated sequence and visulize k-mer matches\n",
      "------------------------------------------------------\n"
     ]
    },
    {
     "cell_type": "markdown",
     "metadata": {},
     "source": [
      "First, let's load a test sequence."
     ]
    },
    {
     "cell_type": "code",
     "collapsed": false,
     "input": [
      "with open(\"test.fa\") as f:\n",
      "    for l in f:\n",
      "        if l[0] != \">\":\n",
      "            seq = l.strip()\n",
      "len(seq)"
     ],
     "language": "python",
     "metadata": {},
     "outputs": [
      {
       "output_type": "pyout",
       "prompt_number": 1,
       "text": [
        "5261"
       ]
      }
     ],
     "prompt_number": 1
    },
    {
     "cell_type": "markdown",
     "metadata": {},
     "source": [
      "Define a simple function ``get_sim_seq()`` to generate simulated sequences with variations on top of the template sequence."
     ]
    },
    {
     "cell_type": "code",
     "collapsed": false,
     "input": [
      "import random\n",
      "def get_sim_seq( seq, seed, error_rates):\n",
      "    random.seed(seed)\n",
      "    sim_seq = []\n",
      "    ins_rate, del_rate, mis_rate = error_rates\n",
      "    seq = seq.upper()\n",
      "    for c in seq:\n",
      "        while 1:\n",
      "            if random.uniform(0, 1) < ins_rate:\n",
      "                sim_seq.append( random.choice([\"A\",\"C\",\"G\",\"T\"]))\n",
      "            else:\n",
      "                break\n",
      "        if random.uniform(0, 1) < del_rate:\n",
      "            continue\n",
      "        if random.uniform(0, 1) < mis_rate:\n",
      "            sim_seq.append( random.choice([\"A\",\"C\",\"G\",\"T\"]))\n",
      "            sim_seq.append(c)\n",
      "            continue\n",
      "        sim_seq.append(c)\n",
      "    return \"\".join(sim_seq)\n",
      "\n"
     ],
     "language": "python",
     "metadata": {},
     "outputs": [],
     "prompt_number": 2
    },
    {
     "cell_type": "markdown",
     "metadata": {},
     "source": [
      "Generate two simulated sequences `sim_seq1` and `sim_seq2` which have insertion rate = 2%, deletin rate = 2% and mismatch rate 1%."
     ]
    },
    {
     "cell_type": "code",
     "collapsed": false,
     "input": [
      "ins_rate = 0.02\n",
      "del_rate = 0.02\n",
      "mm_rate = 0.01\n",
      "sim_seq1 = get_sim_seq( seq, 42, (ins_rate, del_rate, mm_rate) )\n",
      "with open(\"test_sim1.fa\",\"w\") as f:\n",
      "    print >>f, \">sim1\"\n",
      "    print >>f, sim_seq1\n",
      "\n",
      "sim_seq2 = get_sim_seq( seq, 63, (ins_rate, del_rate, mm_rate) )\n",
      "with open(\"test_sim2.fa\",\"w\") as f:\n",
      "    print >>f, \">sim2\"\n",
      "    print >>f, sim_seq2\n",
      "    \n",
      "!blasr test_sim1.fa test.fa -m 4 -noSplitSubreads\n",
      "!blasr test_sim2.fa test.fa -m 4 -noSplitSubreads\n",
      "!blasr test_sim1.fa test_sim2.fa -m 4 -noSplitSubreads"
     ],
     "language": "python",
     "metadata": {},
     "outputs": [
      {
       "output_type": "stream",
       "stream": "stdout",
       "text": [
        "sim1 0x81b0ff29_0125207 -24646 95.6312 0 0 5311 5311 0 0 5261 5261 50 112408 -955.334 0 1\r\n"
       ]
      },
      {
       "output_type": "stream",
       "stream": "stdout",
       "text": [
        "sim2 0x81b0ff29_0125207 -24559 95.4159 0 0 5323 5323 0 0 5260 5261 50 112683 -919.269 0 1\r\n"
       ]
      },
      {
       "output_type": "stream",
       "stream": "stdout",
       "text": [
        "sim1 sim2 -23042 91.7028 0 0 5310 5311 0 0 5323 5323 50 113106 -1005.63 0 1\r\n"
       ]
      }
     ],
     "prompt_number": 3
    },
    {
     "cell_type": "markdown",
     "metadata": {},
     "source": [
      "We define a funcation ``plot_kmer_location`` so we can visulize the k-mer matching positions to see the \"rough alignment\" between two sequences."
     ]
    },
    {
     "cell_type": "code",
     "collapsed": false,
     "input": [
      "def plot_kmer_location( seq1, seq2, kmer_size = 8, max_deviation = 50):\n",
      "    kmer_location = []\n",
      "    for offset in range(-max_deviation, max_deviation):\n",
      "        match_list = []\n",
      "        if offset < 0:\n",
      "            padded_seq1 = seq1[abs(offset):] + \"N\" * abs(offset)\n",
      "        elif offset > 0:\n",
      "            padded_seq1 = \"N\" * offset + seq1[:-offset] \n",
      "        else:\n",
      "            padded_seq1 = seq1\n",
      "        max_k = 0\n",
      "        pos = 0\n",
      "        for c1, c2 in zip(padded_seq1, seq2):\n",
      "            pos += 1\n",
      "            if c1 == c2:\n",
      "                max_k += 1\n",
      "            else:\n",
      "                if max_k != 0:\n",
      "                    if max_k >= kmer_size:\n",
      "                        for i in range(pos-max_k, pos):\n",
      "                            kmer_location.append( (i, offset) )\n",
      "                max_k = 0\n",
      "                \n",
      "        if max_k != 0:\n",
      "            if max_k > kmer_size:\n",
      "                for i in range(pos-max_k, pos):\n",
      "                    kmer_location.append( (i, offset) )\n",
      "    kmer_location.sort()\n",
      "    x,y = zip(*kmer_location)\n",
      "    plot(x,y,\"+\")\n",
      "    xlabel(\"seq2 position\")\n",
      "    ylabel(\"seq1 position - seq2 position\")\n",
      "    title(\"aligned %d-mer positions\" % kmer_size)\n",
      "\n"
     ],
     "language": "python",
     "metadata": {},
     "outputs": [],
     "prompt_number": 4
    },
    {
     "cell_type": "markdown",
     "metadata": {},
     "source": [
      "Here we should all k-mer matches between ``sim_seq1`` and ``sim_seq2``. Notcie that the \"deviation\" between the aligned location of the k-mers is rarely beyond 30bp away from each other."
     ]
    },
    {
     "cell_type": "code",
     "collapsed": false,
     "input": [
      "plot_kmer_location(sim_seq1, sim_seq2, kmer_size = 8)"
     ],
     "language": "python",
     "metadata": {},
     "outputs": [
      {
       "output_type": "display_data",
       "png": "[encoded data removed]"
      }
     ],
     "prompt_number": 5
    },
    {
     "cell_type": "markdown",
     "metadata": {},
     "source": [
      "Generate two new simulated sequences `sim_seq2` and `sim_seq3` with higher nsertion rate at 7%, deletin rate at 7% and mismatch rate 1%.  In this case, we show all k=6 aligned position, the deviation of the path is bigger comparing to the previous example."
     ]
    },
    {
     "cell_type": "code",
     "collapsed": false,
     "input": [
      "ins_rate = 0.07\n",
      "del_rate = 0.07\n",
      "mm_rate = 0.01\n",
      "sim_seq3 = get_sim_seq( seq, 42, (ins_rate, del_rate, mm_rate) )\n",
      "with open(\"test_sim3.fa\",\"w\") as f:\n",
      "    print >>f, \">sim3\"\n",
      "    print >>f, sim_seq3\n",
      "sim_seq4 = get_sim_seq( seq, 63, (ins_rate, del_rate, mm_rate) )\n",
      "with open(\"test_sim4.fa\",\"w\") as f:\n",
      "    print >>f, \">sim4\"\n",
      "    print >>f, sim_seq4\n",
      "plot_kmer_location(sim_seq3, sim_seq4, kmer_size = 6, max_deviation=120)\n",
      "!blasr test_sim3.fa test.fa -m 4 -noSplitSubreads\n",
      "!blasr test_sim4.fa test.fa -m 4 -noSplitSubreads\n",
      "!blasr test_sim3.fa test_sim4.fa -m 4 -noSplitSubreads"
     ],
     "language": "python",
     "metadata": {},
     "outputs": [
      {
       "output_type": "stream",
       "stream": "stdout",
       "text": [
        "sim3 0x81b0ff29_0125207 -21131 87.8506 0 6 5325 5331 0 7 5256 5261 50 114129 -882.223 0 1\r\n"
       ]
      },
      {
       "output_type": "stream",
       "stream": "stdout",
       "text": [
        "sim4 0x81b0ff29_0125207 -20935 87.3488 0 0 5323 5323 0 0 5261 5261 50 114344 -814.371 0 1\r\n"
       ]
      },
      {
       "output_type": "stream",
       "stream": "stdout",
       "text": [
        "sim3 sim4 -16935 79.2572 0 1 5322 5331 0 3 5316 5323 50 131250 -308.573 0 1\r\n"
       ]
      },
      {
       "output_type": "display_data",
       "png": "[encoded data removed]"
      }
     ],
     "prompt_number": 6
    },
    {
     "cell_type": "markdown",
     "metadata": {},
     "source": [
      "Implementation of the Gene Myers' O(ND) Algorithm in Python\n",
      "-----------------------------------------------------------\n",
      "\n",
      "The following code cell is almost a line-to-line transcript from the original pseudocode from the Figure 2 of the paper.  I will print out the difference between two input sequences."
     ]
    },
    {
     "cell_type": "code",
     "collapsed": false,
     "input": [
      "def OND_align_V1(seq1, seq2, MAX_D):\n",
      "    V = {}\n",
      "    V[1] = 0\n",
      "    MIN_K = -MAX_D\n",
      "    MAX_K = MAX_D\n",
      "    flag = 0\n",
      "    for d in range(MAX_D):\n",
      "        min_k = max(-d, MIN_K)\n",
      "        max_k = min(d, MAX_K)\n",
      "        for k in range(min_k, max_k + 1, 2):\n",
      "            if k-1 not in V:\n",
      "                V[k-1] = V[k + 1]\n",
      "            if k+1 not in V:\n",
      "                V[k+1] = V[k-1] + 1\n",
      "            if k == min_k or k != max_k and V[k-1] < V[k+1]:\n",
      "                x = V[k+1]\n",
      "            else:\n",
      "                x = V[k-1] + 1\n",
      "            y = x - k  \n",
      "            while x < len(seq1) and y < len(seq2) and seq1[x] == seq2[y]:\n",
      "                x += 1\n",
      "                y += 1\n",
      "            V[k] = x\n",
      "            if x >= len(seq1) and y >= len(seq2):\n",
      "                print d\n",
      "                flag = 1\n",
      "                break\n",
      "        if flag == 1: \n",
      "            break"
     ],
     "language": "python",
     "metadata": {},
     "outputs": [],
     "prompt_number": 7
    },
    {
     "cell_type": "markdown",
     "metadata": {},
     "source": [
      "The two sequences ``sim_seq1`` and ``sim_seq2`` have 488 (~9.2%) insertions and deletions. "
     ]
    },
    {
     "cell_type": "code",
     "collapsed": false,
     "input": [
      "OND_align_V1(sim_seq1, sim_seq2, 1000)"
     ],
     "language": "python",
     "metadata": {},
     "outputs": [
      {
       "output_type": "stream",
       "stream": "stdout",
       "text": [
        "488\n"
       ]
      }
     ],
     "prompt_number": 8
    },
    {
     "cell_type": "code",
     "collapsed": false,
     "input": [
      "488.0/len(sim_seq1)"
     ],
     "language": "python",
     "metadata": {},
     "outputs": [
      {
       "output_type": "pyout",
       "prompt_number": 9,
       "text": [
        "0.09188476746375447"
       ]
      }
     ],
     "prompt_number": 9
    },
    {
     "cell_type": "markdown",
     "metadata": {},
     "source": [
      "If we keep track the \"snakes\" and \"d-path\", we can reconstruct the alignment string. The ``OND_align_V2`` adds some machinaries to get the alignment. We did not implement the linear space alogrithm from the paper. This code simply used Python's dictionary to do brute-force tracking for the alignment paths. It will output the alignment strings. It also output the \"d-path\" in the \"d-k\" space which is quite useful to visulize the insteresting \"d-wave-front\"."
     ]
    },
    {
     "cell_type": "code",
     "collapsed": false,
     "input": [
      "def OND_align_V2(seq1, seq2, MAX_D):\n",
      "    V = {}\n",
      "    V[1] = 0\n",
      "    path = {}\n",
      "    snakes = {}\n",
      "    MIN_K = -MAX_D\n",
      "    MAX_K = MAX_D\n",
      "    flag = 0\n",
      "    aln_str1 = \"\"\n",
      "    aln_str2 = \"\"\n",
      "    explored_space = []\n",
      "    D = -1\n",
      "    for d in range(MAX_D):\n",
      "        min_k = max(-d, MIN_K)\n",
      "        max_k = min(d, MAX_K)\n",
      "        for k in range(min_k, max_k + 1, 2):\n",
      "            if k == min_k or k != max_k and V[k-1] < V[k+1]:\n",
      "                pre_k = k + 1\n",
      "                x = V[k+1]\n",
      "            else:\n",
      "                pre_k = k - 1\n",
      "                x = V[k-1] + 1\n",
      "            y = x - k\n",
      "            snake = [ (x, y) ]\n",
      "    \n",
      "            while x < len(seq1) and y < len(seq2) and seq1[x] == seq2[y]:\n",
      "                x += 1\n",
      "                y += 1\n",
      "            V[k] = x\n",
      "            explored_space.append( (d, k, x, y) )\n",
      "            snake.append( (x, y) )\n",
      "            path[ (d, k) ] = (d - 1, pre_k)\n",
      "            snakes[ (d, k) ] = snake\n",
      "            if x >= len(seq1) and y >= len(seq2):\n",
      "                D = d\n",
      "                full_snakes = []\n",
      "                dd = d\n",
      "                while dd > 0:\n",
      "                    full_snakes.append(  snakes[ (dd, k) ] )\n",
      "                    dd, k = path[ (dd, k) ]\n",
      "                full_snakes.append(  snakes[ (dd, k) ] )\n",
      "                full_snakes.reverse()\n",
      "                aln_coor = []\n",
      "                for c1, c2 in full_snakes:\n",
      "                    aln_coor.append( c1 )\n",
      "                    if c2 != c1:\n",
      "                        aln_coor.append( c2 )\n",
      "                cp1, cp2 = aln_coor[0]\n",
      "                str1 =[]\n",
      "                str2 =[]\n",
      "                for np1, np2 in aln_coor[1:]:\n",
      "                    if np1 == cp1 and np2 != cp2:\n",
      "                        str2.append( seq2[cp2:np2] )\n",
      "                        str1.append( \"-\" * (np2 - cp2) )\n",
      "                    elif np2 == cp2 and np1 != cp1:\n",
      "                        str1.append( seq1[cp1:np1] )\n",
      "                        str2.append( \"-\" * (np1 - cp1) )\n",
      "                    else:\n",
      "                        str1.append( seq1[cp1:np1] )\n",
      "                        str2.append( seq2[cp2:np2] )\n",
      "                    cp1, cp2 = np1, np2\n",
      "    \n",
      "                aln_str1 = \"\".join(str1)\n",
      "                aln_str2 = \"\".join(str2)\n",
      "                flag = 1\n",
      "                break\n",
      "        if flag == 1: \n",
      "            break\n",
      "    return (aln_str1, aln_str2, D, explored_space, flag)"
     ],
     "language": "python",
     "metadata": {},
     "outputs": [],
     "prompt_number": 10
    },
    {
     "cell_type": "markdown",
     "metadata": {},
     "source": [
      "Here we show the code can generate the alignment strings."
     ]
    },
    {
     "cell_type": "code",
     "collapsed": false,
     "input": [
      "aln_str1, aln_str2, D, explored_space, flag = OND_align_V2(sim_seq1, sim_seq2, 1000)\n",
      "count = 0\n",
      "print D\n",
      "print\n",
      "for chunk_start in range(0, len(aln_str1), 80):\n",
      "    print aln_str1[chunk_start:chunk_start+80]\n",
      "    print aln_str2[chunk_start:chunk_start+80]\n",
      "    print\n",
      "    count += 1\n",
      "    if count > 5:\n",
      "        break"
     ],
     "language": "python",
     "metadata": {},
     "outputs": [
      {
       "output_type": "stream",
       "stream": "stdout",
       "text": [
        "488\n",
        "\n",
        "CGAACT-TCATCAAACTGCCATTTGTG-CACGCTAACA-ATAACCTGTGAAAACAGCTATCTCCCGGGGCATGCTATGAA\n",
        "CGAACTGTCATCAAACTGCCATTTGTGGCACGCTAACAGATAAC--GTGAAAACAGCTATCTCCCGGGGCATGCTATGAA\n",
        "\n",
        "CGA-TCAA-ATGTTTTG-TCGAG-CAACTGATTATCACGTCATCGTTTTTTTGCCATTGCCTGTTGTACTG-TTTTGTCC\n",
        "CG-GTCAACATGTTT-GATCGAGACA-CTGATTATCACGTCATCGTTTTTT-GCC-TTGCCTGTTGTACTGGTTTT-TCC\n",
        "\n",
        "GTTCTTCTCT-ATCGAACGGACCG-GCTAGTTACGCAGTGCGGCGGAAAT-GACCAGTTCTGGTTGCGCAATGCGCAA-A\n",
        "GTTCTTC-CTTATCGAACGGACCGCGCTAGTTACGCAGTGCGGCGGAAATTGACCAGTTCTGGTTGCGCAATGCGCAATA\n",
        "\n",
        "AATCCGCGG-T-TTTCAAAATAACGGATTTATCCAGCATG-CCTGCATTGAAGGCGATTTCATCAAATTC-GTTCGAAGA\n",
        "A-TCCGCGGGTGTTTCAAAATAACGGATTTATCCAGCATGGC-TGCATTGAAGGCGATTTCATCAAAT-CAGTTCGAAGA\n",
        "\n",
        "GTAGAGGGTCGGCA-AGCCAGTTTGAGTTTTG-GATGGAATGCTTGAAAGGGGGGATCGCGCCGAAGACACAGCCTG-GA\n",
        "GTAGAGGGT-GGCATA-CCAGTTTGAGTTTTGTGATGGAA-GCT--AAAGGGGGGATCGCGCCGAAGACACAGCCTGTGA\n",
        "\n",
        "GTTCATCGA-TGTCCGTCCGGGCTGGCCAACGAAGCGCGTAATCCGCCTATATGGCTGGCGA-GTTGGCTCAGATCGGCC\n",
        "GTTCATCGACT-TCCG-CCGGGCTGGCCAACGAAGCGCGTAATCCGCCTATATGGCTGGCGAAGTTGGCTCAGATCGGCC\n",
        "\n"
       ]
      }
     ],
     "prompt_number": 11
    },
    {
     "cell_type": "markdown",
     "metadata": {},
     "source": [
      "Here we show where the point in the \"d-k\" space that it needs to iterate through to find the alignment path. As one can see, the area of the blue triangle is propotional to $d^2$, which is about the expected time complexity of the algorithm."
     ]
    },
    {
     "cell_type": "code",
     "collapsed": false,
     "input": [
      "d, k, x, y = zip(*explored_space)\n",
      "plot(d, k, \".\", markersize = 0.1)\n",
      "ylim( (-500, 500) )\n",
      "xlabel(\"d\")\n",
      "ylabel(\"k\")"
     ],
     "language": "python",
     "metadata": {},
     "outputs": [
      {
       "output_type": "pyout",
       "prompt_number": 12,
       "text": [
        "<matplotlib.text.Text at 0x1088fb790>"
       ]
      },
      {
       "output_type": "display_data",
       "png": "[encoded data removed]"
      }
     ],
     "prompt_number": 12
    },
    {
     "cell_type": "markdown",
     "metadata": {},
     "source": [
      "We can also visulize the \"d-wave-front\" which is consistuted of those points in the alignment coordinates with equal edit distance from the origin."
     ]
    },
    {
     "cell_type": "code",
     "collapsed": false,
     "input": [
      "x = np.array(x)\n",
      "y = np.array(y)\n",
      "d = np.array(d)\n",
      "legends = []\n",
      "for i in range(5):\n",
      "    sx = x[d == i*100]\n",
      "    sy = y[d == i*100]\n",
      "    plot(sx, sy, \".\", markersize = 1)\n",
      "    legends.append(\"%d\" % (i*100))\n",
      "legend(legends, loc=\"best\")\n",
      "xlabel(\"x\")\n",
      "ylabel(\"y\")"
     ],
     "language": "python",
     "metadata": {},
     "outputs": [
      {
       "output_type": "pyout",
       "prompt_number": 13,
       "text": [
        "<matplotlib.text.Text at 0x106225210>"
       ]
      },
      {
       "output_type": "display_data",
       "png": "[encoded data removed]"
      }
     ],
     "prompt_number": 13
    },
    {
     "cell_type": "markdown",
     "metadata": {},
     "source": [
      "Rotate the coordinates by 45 degree for a better view of the \"d-wave-front\"."
     ]
    },
    {
     "cell_type": "code",
     "collapsed": false,
     "input": [
      "legends = []\n",
      "for i in range(10):\n",
      "    sx = x[d == i*50]\n",
      "    sy = y[d == i*50]\n",
      "    sx, sy = 0.5*(sx + sy), 0.5*(sx - sy)\n",
      "    plot(sx, sy, \".\", markersize = 1)\n",
      "    legends.append(\"%d\" % (i*50))\n",
      "legend(legends, loc=\"best\")\n",
      "xlabel(\"ave. pos\")\n",
      "ylabel(\"deviation\")\n",
      "xlim( (0,6000) )"
     ],
     "language": "python",
     "metadata": {},
     "outputs": [
      {
       "output_type": "pyout",
       "prompt_number": 14,
       "text": [
        "(0, 6000)"
       ]
      },
      {
       "output_type": "display_data",
       "png": "[encoded data removed]"
      }
     ],
     "prompt_number": 14
    },
    {
     "cell_type": "markdown",
     "metadata": {},
     "source": [
      "The \"tips\" of the \"d-wave-front\" actually only have limited deviation from the x = y line. We can apply some banding stradegy to reduce unnecessary computation. The funtion ``OND_align_V3`` implement a simple \"banded veration\"."
     ]
    },
    {
     "cell_type": "code",
     "collapsed": false,
     "input": [
      "def OND_align_V3(seq1, seq2, MAX_D, band_width):\n",
      "    V = {}\n",
      "    V[1] = 0\n",
      "    path = {}\n",
      "    snakes = {}\n",
      "    MIN_K = -MAX_D\n",
      "    MAX_K = MAX_D\n",
      "    flag = 0\n",
      "    aln_str1 = \"\"\n",
      "    aln_str2 = \"\"\n",
      "    explored_space = []\n",
      "    D = -1\n",
      "    for d in range(MAX_D):\n",
      "        min_k = max(-d, MIN_K)\n",
      "        max_k = min(d, MAX_K)\n",
      "        for k in range(min_k, max_k + 1, 2):\n",
      "            if abs(k) > band_width: continue\n",
      "            if k-1 not in V:\n",
      "                V[k-1] = V[k + 1]\n",
      "            if k+1 not in V:\n",
      "                V[k+1] = V[k-1] + 1\n",
      "            if k == min_k or k != max_k and V[k-1] < V[k+1]:\n",
      "                pre_k = k + 1\n",
      "                x = V[k+1]\n",
      "            else:\n",
      "                pre_k = k - 1\n",
      "                x = V[k-1] + 1\n",
      "            y = x - k\n",
      "            snake = [ (x, y) ]\n",
      "    \n",
      "            while x < len(seq1) and y < len(seq2) and seq1[x] == seq2[y]:\n",
      "                x += 1\n",
      "                y += 1\n",
      "            V[k] = x\n",
      "            snake.append( (x, y) )\n",
      "            if  abs(x - y) < band_width:\n",
      "                path[ (d, k) ] = (d - 1, pre_k)\n",
      "                snakes[ (d, k) ] = snake\n",
      "                explored_space.append( (d, k, x, y) )\n",
      "            if x >= len(seq1) and y >= len(seq2):\n",
      "                D = d\n",
      "                full_snakes = []\n",
      "                dd = d\n",
      "                while dd > 0:\n",
      "                    full_snakes.append(  snakes[ (dd, k) ] )\n",
      "                    dd, k = path[ (dd, k) ]\n",
      "                full_snakes.append(  snakes[ (dd, k) ] )\n",
      "                full_snakes.reverse()\n",
      "                aln_coor = []\n",
      "                for c1, c2 in full_snakes:\n",
      "                    aln_coor.append( c1 )\n",
      "                    if c2 != c1:\n",
      "                        aln_coor.append( c2 )\n",
      "                cp1, cp2 = aln_coor[0]\n",
      "                str1 =[]\n",
      "                str2 =[]\n",
      "                for np1, np2 in aln_coor[1:]:\n",
      "                    if np1 == cp1 and np2 != cp2:\n",
      "                        str2.append( seq2[cp2:np2] )\n",
      "                        str1.append( \"-\" * (np2 - cp2) )\n",
      "                    elif np2 == cp2 and np1 != cp1:\n",
      "                        str1.append( seq1[cp1:np1] )\n",
      "                        str2.append( \"-\" * (np1 - cp1) )\n",
      "                    else:\n",
      "                        str1.append( seq1[cp1:np1] )\n",
      "                        str2.append( seq2[cp2:np2] )\n",
      "                    cp1, cp2 = np1, np2\n",
      "    \n",
      "                aln_str1 = \"\".join(str1)\n",
      "                aln_str2 = \"\".join(str2)\n",
      "                flag = 1\n",
      "                break\n",
      "        if flag == 1: \n",
      "            break\n",
      "    return (aln_str1, aln_str2, D, explored_space, flag)"
     ],
     "language": "python",
     "metadata": {},
     "outputs": [],
     "prompt_number": 15
    },
    {
     "cell_type": "markdown",
     "metadata": {},
     "source": [
      "Check the ``OND_align_V3`` generating the same alignment string."
     ]
    },
    {
     "cell_type": "code",
     "collapsed": false,
     "input": [
      "aln_str1, aln_str2, D, explored_space, flag = OND_align_V3(sim_seq1, sim_seq2, 1000, 100)\n",
      "print D\n",
      "print \n",
      "count = 0\n",
      "for chunk_start in range(0, len(aln_str1), 80):\n",
      "    print aln_str1[chunk_start:chunk_start+80]\n",
      "    print aln_str2[chunk_start:chunk_start+80]\n",
      "    print\n",
      "    count += 1\n",
      "    if count > 5:\n",
      "        break"
     ],
     "language": "python",
     "metadata": {},
     "outputs": [
      {
       "output_type": "stream",
       "stream": "stdout",
       "text": [
        "488\n",
        "\n",
        "CGAACT-TCATCAAACTGCCATTTGTG-CACGCTAACA-ATAACCTGTGAAAACAGCTATCTCCCGGGGCATGCTATGAA\n",
        "CGAACTGTCATCAAACTGCCATTTGTGGCACGCTAACAGATAAC--GTGAAAACAGCTATCTCCCGGGGCATGCTATGAA\n",
        "\n",
        "CGA-TCAA-ATGTTTTG-TCGAG-CAACTGATTATCACGTCATCGTTTTTTTGCCATTGCCTGTTGTACTG-TTTTGTCC\n",
        "CG-GTCAACATGTTT-GATCGAGACA-CTGATTATCACGTCATCGTTTTTT-GCC-TTGCCTGTTGTACTGGTTTT-TCC\n",
        "\n",
        "GTTCTTCTCT-ATCGAACGGACCG-GCTAGTTACGCAGTGCGGCGGAAAT-GACCAGTTCTGGTTGCGCAATGCGCAA-A\n",
        "GTTCTTC-CTTATCGAACGGACCGCGCTAGTTACGCAGTGCGGCGGAAATTGACCAGTTCTGGTTGCGCAATGCGCAATA\n",
        "\n",
        "AATCCGCGG-T-TTTCAAAATAACGGATTTATCCAGCATG-CCTGCATTGAAGGCGATTTCATCAAATTC-GTTCGAAGA\n",
        "A-TCCGCGGGTGTTTCAAAATAACGGATTTATCCAGCATGGC-TGCATTGAAGGCGATTTCATCAAAT-CAGTTCGAAGA\n",
        "\n",
        "GTAGAGGGTCGGCA-AGCCAGTTTGAGTTTTG-GATGGAATGCTTGAAAGGGGGGATCGCGCCGAAGACACAGCCTG-GA\n",
        "GTAGAGGGT-GGCATA-CCAGTTTGAGTTTTGTGATGGAA-GCT--AAAGGGGGGATCGCGCCGAAGACACAGCCTGTGA\n",
        "\n",
        "GTTCATCGA-TGTCCGTCCGGGCTGGCCAACGAAGCGCGTAATCCGCCTATATGGCTGGCGA-GTTGGCTCAGATCGGCC\n",
        "GTTCATCGACT-TCCG-CCGGGCTGGCCAACGAAGCGCGTAATCCGCCTATATGGCTGGCGAAGTTGGCTCAGATCGGCC\n",
        "\n"
       ]
      }
     ],
     "prompt_number": 16
    },
    {
     "cell_type": "markdown",
     "metadata": {},
     "source": [
      "As shown below, the search space in the alignment coordinates is now limited to a band. "
     ]
    },
    {
     "cell_type": "code",
     "collapsed": false,
     "input": [
      "d, k, x, y = zip(*explored_space)\n",
      "plot(d, k, \"+\", markersize = 0.1)\n",
      "ylim( (-500, 500) )\n",
      "xlabel(\"d\")\n",
      "ylabel(\"k\")"
     ],
     "language": "python",
     "metadata": {},
     "outputs": [
      {
       "output_type": "pyout",
       "prompt_number": 17,
       "text": [
        "<matplotlib.text.Text at 0x1063592d0>"
       ]
      },
      {
       "output_type": "display_data",
       "png": "[encoded data removed]"
      }
     ],
     "prompt_number": 17
    },
    {
     "cell_type": "markdown",
     "metadata": {},
     "source": [
      "The \"d-wave-front\" in the banded-spaces:"
     ]
    },
    {
     "cell_type": "code",
     "collapsed": false,
     "input": [
      "x = np.array(x)\n",
      "y = np.array(y)\n",
      "d = np.array(d)\n",
      "legends = []\n",
      "for i in range(5):\n",
      "    sx = x[d == i*100]\n",
      "    sy = y[d == i*100]\n",
      "    plot(sx, sy, \".\", markersize = 1)\n",
      "    legends.append(\"%d\" % (i*100))\n",
      "legend(legends, loc=\"best\")\n",
      "xlabel(\"x\")\n",
      "ylabel(\"y\")"
     ],
     "language": "python",
     "metadata": {},
     "outputs": [
      {
       "output_type": "pyout",
       "prompt_number": 18,
       "text": [
        "<matplotlib.text.Text at 0x1063b8d50>"
       ]
      },
      {
       "output_type": "display_data",
       "png": "[encoded data removed]"
      }
     ],
     "prompt_number": 18
    },
    {
     "cell_type": "code",
     "collapsed": false,
     "input": [
      "legends = []\n",
      "for i in range(10):\n",
      "    sx = x[d == i*50]\n",
      "    sy = y[d == i*50]\n",
      "    sx, sy = 0.5*(sx + sy), 0.5*(sx - sy)\n",
      "    plot(sx, sy, \".\", markersize = 1)\n",
      "    legends.append(\"%d\" % (i*50))\n",
      "legend(legends, loc=\"best\")\n",
      "xlabel(\"ave. pos\")\n",
      "ylabel(\"deviation\")\n",
      "xlim( (0,6000) )"
     ],
     "language": "python",
     "metadata": {},
     "outputs": [
      {
       "output_type": "pyout",
       "prompt_number": 19,
       "text": [
        "(0, 6000)"
       ]
      },
      {
       "output_type": "display_data",
       "png": "[encoded data removed]"
      }
     ],
     "prompt_number": 19
    },
    {
     "cell_type": "markdown",
     "metadata": {},
     "source": [
      "Test the code for aligning more divergent sequences."
     ]
    },
    {
     "cell_type": "code",
     "collapsed": false,
     "input": [
      "aln_str1, aln_str2, D, explored_space, flag = OND_align_V3(sim_seq3, sim_seq4, 5000, 200)\n",
      "print D\n",
      "print\n",
      "count = 0\n",
      "for chunk_start in range(0, len(aln_str1), 80):\n",
      "    print aln_str1[chunk_start:chunk_start+80]\n",
      "    print aln_str2[chunk_start:chunk_start+80]\n",
      "    print\n",
      "    count += 1\n",
      "    if count > 5:\n",
      "        break"
     ],
     "language": "python",
     "metadata": {},
     "outputs": [
      {
       "output_type": "stream",
       "stream": "stdout",
       "text": [
        "1372\n",
        "\n",
        "-GA-CTGTTCATCAAACTGCCATT--GTGCACAGCC-AACAATACATCTGTTGAAAACA-GCTATCTCCCGGGGCCATGC\n",
        "CGAACTGT-CATCAAACTGC-ATTCTGTGCAC-GC-TA-CAATA-A-C-GT-GAAAACACGCTATCTCCCGGGGC-ATGC\n",
        "\n",
        "TGATGAACG-ATCAAA-T-TTTGT-CTGAAGACACTG-A-T-ATCACGTCATCGTTTTGTGCC-ACTTGC-TGT-GTATC\n",
        "T-ATGAACGGA-CAAACTGTTTGTAC-GA-GACACTGCACTTATCACGTCAT-GTTTT-TGCCTA-T-GCCTGTTGTA-C\n",
        "\n",
        "TGAG-TTT-TGTC-CGTTCTCTCTT-TC-AACC-GGACCA-GGCT--GTTACGCAGTGCGGCTGGAA-TT-GACCAGTTC\n",
        "TG-GGTTTATG-CGCGTTCTC-CTTATCGAAC-TGGACC-CGGCTACGTTACGCAGTGCGGC-GGAAATTCGACCAGT-C\n",
        "\n",
        "TGGTG-CAGC-AATGCGCCAAATAATCCCG-CG--T-TTTCAAAATA-ACGGATTTATCCAGCATGCT-GCATTGAAGAG\n",
        "TG-T-TC-GCGAATG-GC-AAATAATCC-GGCGGGTCTTTCAAAATACACGGATT-ATCCAGCATGC-CGCATTGAAG-G\n",
        "\n",
        "CGATTTCATTCAAATCG-TGTCGAAG-AGTAGAGGG-C-GGTCT-AACCAGTT-GAGTTTGG-TGAGA-GCTT-AAAGGG\n",
        "CGATT-CAT-CAA-TCGCT-TCGAAGGAGTAGAGG-TCTGG-C-GAA--AGTTTGA-TTTGGATG-GAAGCT-GAAAGGG\n",
        "\n",
        "GGGATCGCGCCGAAG-ACTACTA-CCTAGTGAGCTT-ATCAGATT--CCGCCGGGC-TGGCCCTAACG-AAAGCGCGTAA\n",
        "GGGATCGCGCCGAAGCAC-AC-AGCCT-G-GAG-TTCATC-G-TTTTCCGCCGGGCCTGGCC--A-CGTAA-GCGC-TA-\n",
        "\n"
       ]
      }
     ],
     "prompt_number": 20
    },
    {
     "cell_type": "code",
     "collapsed": false,
     "input": [
      "d, k, x, y = zip(*explored_space)\n",
      "x = np.array(x)\n",
      "y = np.array(y)\n",
      "d = np.array(d)\n",
      "legends = []\n",
      "for i in range(10):\n",
      "    sx = x[d == i*200]\n",
      "    sy = y[d == i*200]\n",
      "    sx, sy = 0.5*(sx + sy), 0.5*(sx - sy)\n",
      "    plot(sx, sy, \".\", markersize = 1)\n",
      "    legends.append(\"%d\" % (i*200))\n",
      "legend(legends, loc=\"best\")\n",
      "xlabel(\"ave. pos\")\n",
      "ylabel(\"deviation\")\n",
      "xlim( (0,7000) )"
     ],
     "language": "python",
     "metadata": {},
     "outputs": [
      {
       "output_type": "pyout",
       "prompt_number": 21,
       "text": [
        "(0, 7000)"
       ]
      },
      {
       "output_type": "display_data",
       "png": "[encoded data removed]"
      }
     ],
     "prompt_number": 21
    },
    {
     "cell_type": "markdown",
     "metadata": {},
     "source": [
      "C Implementation\n",
      "----------------\n",
      "\n",
      "While Python is great for algorithm prototyping or testing out an algorithm, it is not fast.  A \"C\" implementation of the algorithm is written: "
     ]
    },
    {
     "cell_type": "code",
     "collapsed": false,
     "input": [
      "!cat DWAlign.c"
     ],
     "language": "python",
     "metadata": {},
     "outputs": [
      {
       "output_type": "stream",
       "stream": "stdout",
       "text": [
        "/*\r\n",
        " * =====================================================================================\r\n",
        " *\r\n",
        " *       Filename:  DWAlign.c\r\n",
        " *\r\n",
        " *    Description:  \r\n",
        " *\r\n",
        " *        Version:  0.1\r\n",
        " *        Created:  07/05/2013 10:13:23 AM\r\n",
        " *       Revision:  none\r\n",
        " *       Compiler:  gcc\r\n",
        " *\r\n",
        " *         Author:  Jason Chin, \r\n",
        " *        Company:  \r\n",
        " *\r\n",
        " * =====================================================================================\r\n",
        " */\r\n",
        "\r\n",
        "#include <stdlib.h>\r\n",
        "#include <stdio.h>\r\n",
        "#include <limits.h>\r\n",
        "#include <stdbool.h>\r\n",
        "\r\n",
        "typedef long int seq_size; \r\n",
        "\r\n",
        "typedef struct {    \r\n",
        "    seq_size aln_str_size ;\r\n",
        "    seq_size dist ;\r\n",
        "    char * t_aln_str;\r\n",
        "    char * q_aln_str;\r\n",
        "} alignment;\r\n",
        "\r\n",
        "\r\n",
        "typedef struct {\r\n",
        "    seq_size pre_k;\r\n",
        "    seq_size x1;\r\n",
        "    seq_size y1;\r\n",
        "    seq_size x2;\r\n",
        "    seq_size y2;\r\n",
        "} d_path_data;\r\n",
        "\r\n",
        "typedef struct {\r\n",
        "    seq_size x;\r\n",
        "    seq_size y;\r\n",
        "} path_point;\r\n",
        "\r\n",
        "alignment * align(char * query_seq, seq_size q_len,\r\n",
        "                  char * target_seq, seq_size t_len,\r\n",
        "                  seq_size max_d,\r\n",
        "                  seq_size band_size) {\r\n",
        "    seq_size * V;\r\n",
        "    seq_size V_offset;\r\n",
        "    seq_size d;\r\n",
        "    seq_size k;\r\n",
        "    seq_size min_k;\r\n",
        "    seq_size c_min_k;\r\n",
        "    seq_size max_k;\r\n",
        "    seq_size c_max_k;\r\n",
        "    seq_size pre_k;\r\n",
        "    seq_size x, y;\r\n",
        "    seq_size cd;\r\n",
        "    seq_size ck;\r\n",
        "    seq_size cx, cy, nx, ny;\r\n",
        "    d_path_data * d_path;\r\n",
        "    path_point * aln_path;\r\n",
        "    seq_size aln_path_idx;\r\n",
        "    alignment * align_rtn;\r\n",
        "    seq_size aln_pos;\r\n",
        "    seq_size i;\r\n",
        "    bool aligned = false;\r\n",
        "\r\n",
        "\r\n",
        "    V = calloc( band_size * 2 + 3, sizeof(seq_size) );\r\n",
        "    V_offset = band_size + 1;\r\n",
        "    d_path = calloc( max_d * max_d * 2, sizeof(d_path_data));\r\n",
        "    aln_path = calloc( q_len + t_len, sizeof(path_point));\r\n",
        "\r\n",
        "    align_rtn = calloc( 1, sizeof(alignment));\r\n",
        "    align_rtn->t_aln_str = calloc( q_len + t_len, sizeof(char));\r\n",
        "    align_rtn->q_aln_str = calloc( q_len + t_len, sizeof(char));\r\n",
        "\r\n",
        "    c_min_k = 0;\r\n",
        "    c_max_k = 0;\r\n",
        "\r\n",
        "    //printf(\"max_d: %lu, band_size: %lu\\n\", max_d, band_size);\r\n",
        "    for (d = 0; d < max_d; d ++ ) {\r\n",
        "        min_k = d < max_d ? -d : -max_d;\r\n",
        "        max_k = d < max_d ? d : max_d;\r\n",
        "        //printf(\"min_k:%ld max_k:%ld V[min_k]: %ld V[max_k]: %ld\\n\", min_k, max_k, V[min_k + V_offset], V[max_k + V_offset]);\r\n",
        "        //printf(\"\\n\");\r\n",
        "        for (k = min_k; k <= max_k;  k += 2) {\r\n",
        "            if (abs(k) > band_size) {\r\n",
        "                continue;\r\n",
        "            }\r\n",
        "            //printf(\"1:%lu %ld\\n\", d, k);\r\n",
        "            if ( k - 1 < c_min_k ) {\r\n",
        "                //printf(\"2: %ld\\n\", c_min_k);\r\n",
        "                V[ k - 1 + V_offset ] = V[ k + 1 + V_offset ];\r\n",
        "            }\r\n",
        "            if ( k + 1 > c_max_k ) {\r\n",
        "                //printf(\"3: %ld\\n\", c_max_k);\r\n",
        "                V[ k + 1 + V_offset ] = V[ k - 1 + V_offset ] + 1;\r\n",
        "            }\r\n",
        "\r\n",
        "            if ( k == min_k || k != max_k && V[ k - 1 + V_offset ] < V[ k + 1 + V_offset] ) {\r\n",
        "                pre_k = k + 1;\r\n",
        "                x = V[ k + 1 + V_offset];\r\n",
        "            } else {\r\n",
        "                pre_k = k - 1;\r\n",
        "                x = V[ k - 1 + V_offset] + 1;\r\n",
        "            }\r\n",
        "            y = x - k;\r\n",
        "            d_path[ d * 2 * max_d + k + max_d ].x1 = x;\r\n",
        "            d_path[ d * 2 * max_d + k + max_d ].y1 = y;\r\n",
        "\r\n",
        "            while ( x < q_len && y < t_len && query_seq[x] == target_seq[y] ){\r\n",
        "                x++;\r\n",
        "                y++;\r\n",
        "                //printf(\"xy:%ld %ld %c %c\\n\", x, y, query_seq[x], target_seq[y]  );\r\n",
        "            }\r\n",
        "            d_path[ d * 2 * max_d + k + max_d ].x2 = x;\r\n",
        "            d_path[ d * 2 * max_d + k + max_d ].y2 = y;\r\n",
        "            d_path[ d * 2 * max_d + k + max_d ].pre_k = pre_k;\r\n",
        "            V[ k + V_offset ] = x;\r\n",
        "            if ( k < c_min_k) {\r\n",
        "                c_min_k = k;\r\n",
        "            }\r\n",
        "            if (k > c_max_k) {\r\n",
        "                c_max_k = k;\r\n",
        "            }\r\n",
        "            //printf(\"xy:%ld %ld\\n\", x, y);\r\n",
        "            \r\n",
        "            if ( x >= q_len && y >= t_len) {\r\n",
        "                //printf(\"D:%lu\\n\", d);\r\n",
        "                aligned = true;\r\n",
        "\r\n",
        "                cd = d;\r\n",
        "                ck = k;\r\n",
        "                aln_path_idx = 0;\r\n",
        "                while (cd >= 0) {    \r\n",
        "                    /*\r\n",
        "                    printf( \"%ld %ld %ld %ld %ld %ld %ld\\n\",\r\n",
        "                             cd,\r\n",
        "                             ck,\r\n",
        "                             d_path[ cd * 2 * max_d + ck + max_d ].x1,\r\n",
        "                             d_path[ cd * 2 * max_d + ck + max_d ].y1,\r\n",
        "                             d_path[ cd * 2 * max_d + ck + max_d ].x2,\r\n",
        "                             d_path[ cd * 2 * max_d + ck + max_d ].y2,\r\n",
        "                             d_path[ cd * 2 * max_d + ck + max_d ].pre_k);\r\n",
        "                    */\r\n",
        "                    aln_path[aln_path_idx].x = d_path[ cd * 2 * max_d + ck + max_d ].x2;\r\n",
        "                    aln_path[aln_path_idx].y = d_path[ cd * 2 * max_d + ck + max_d ].y2;\r\n",
        "                    aln_path_idx ++;\r\n",
        "                    aln_path[aln_path_idx].x = d_path[ cd * 2 * max_d + ck + max_d ].x1;\r\n",
        "                    aln_path[aln_path_idx].y = d_path[ cd * 2 * max_d + ck + max_d ].y1;\r\n",
        "                    aln_path_idx ++;\r\n",
        "                    ck = d_path[ cd * 2 * max_d + ck + max_d ].pre_k;\r\n",
        "                    cd -= 1;\r\n",
        "                }\r\n",
        "                aln_path_idx --;\r\n",
        "                cx = aln_path[aln_path_idx].x;\r\n",
        "                cy = aln_path[aln_path_idx].y;\r\n",
        "                aln_pos = 0;\r\n",
        "                while ( aln_path_idx > 0 ) {\r\n",
        "                    aln_path_idx --;\r\n",
        "                    nx = aln_path[aln_path_idx].x;\r\n",
        "                    ny = aln_path[aln_path_idx].y;\r\n",
        "                    if (cx == nx && cy == ny){\r\n",
        "                        continue;\r\n",
        "                    }\r\n",
        "                    if (nx == cx && ny != cy){ //advance in y\r\n",
        "                        for (i = 0; i <  ny - cy; i++) {\r\n",
        "                            align_rtn->q_aln_str[aln_pos + i] = '-';\r\n",
        "                        }\r\n",
        "                        for (i = 0; i <  ny - cy; i++) {\r\n",
        "                            align_rtn->t_aln_str[aln_pos + i] = target_seq[cy + i];\r\n",
        "                        }\r\n",
        "                        aln_pos += ny - cy;\r\n",
        "                    } else if (nx != cx && ny == cy){ //advance in x\r\n",
        "                        for (i = 0; i <  nx - cx; i++) {\r\n",
        "                            align_rtn->q_aln_str[aln_pos + i] = query_seq[cx + i];\r\n",
        "                        }\r\n",
        "                        for (i = 0; i <  nx - cx; i++) {\r\n",
        "                            align_rtn->t_aln_str[aln_pos + i] = '-';\r\n",
        "                        }\r\n",
        "                        aln_pos += nx - cx;\r\n",
        "                    } else {\r\n",
        "                        for (i = 0; i <  nx - cx; i++) {\r\n",
        "                            align_rtn->q_aln_str[aln_pos + i] = query_seq[cx + i];\r\n",
        "                        }\r\n",
        "                        for (i = 0; i <  ny - cy; i++) {\r\n",
        "                            align_rtn->t_aln_str[aln_pos + i] = target_seq[cy + i];\r\n",
        "                        }\r\n",
        "                        aln_pos += ny - cy;\r\n",
        "                    }\r\n",
        "                    cx = nx;\r\n",
        "                    cy = ny;\r\n",
        "                }\r\n",
        "                align_rtn->aln_str_size = aln_pos;\r\n",
        "                align_rtn->dist = d;\r\n",
        "                break;\r\n",
        "            }\r\n",
        "        }\r\n",
        "        if (aligned == true) {\r\n",
        "            break;\r\n",
        "        }\r\n",
        "    }\r\n",
        "\r\n",
        "    free(V);\r\n",
        "    free(d_path);\r\n",
        "    free(aln_path);\r\n",
        "    return align_rtn;\r\n",
        "}\r\n",
        "\r\n",
        "\r\n",
        "void free_alignment(alignment * aln) {\r\n",
        "    free(aln->q_aln_str);\r\n",
        "    free(aln->t_aln_str);\r\n",
        "    free(aln);\r\n",
        "}\r\n"
       ]
      }
     ],
     "prompt_number": 22
    },
    {
     "cell_type": "markdown",
     "metadata": {},
     "source": [
      "The code is developed to be called with Python's ``ctypes`` library.  We need to compile the code to a shared object file by\n",
      "\n",
      "``gcc DWAlign.c -O3 -shared -fPIC -o DWAlign.so\\\\\n",
      "-I/Applications/Xcode.app/Contents/Developer/Platforms/MacOSX.platform/Developer/SDKs/MacOSX10.8.sdk/usr/include/\\\\\n",
      "-L/Applications/Xcode.app/Contents/Developer/Platforms/MacOSX.platform/Developer/SDKs/MacOSX10.8.sdk/usr/lib``\n",
      "\n",
      "\n",
      "The following code cell defines the ``ctypes`` interfact to call the C implementation."
     ]
    },
    {
     "cell_type": "code",
     "collapsed": false,
     "input": [
      "from ctypes import *\n",
      "\n",
      "class Alignment(Structure):\n",
      "    \"\"\"\n",
      "    typedef struct {    \n",
      "        seq_size aln_str_size ;\n",
      "        seq_size dist ;\n",
      "        char * t_aln_str;\n",
      "        char * q_aln_str;\n",
      "    } alignment;\n",
      "    \"\"\"\n",
      "    _fields_ = [ (\"aln_str_size\", c_long),\n",
      "                 (\"dist\", c_long),\n",
      "                 (\"t_aln_str\", c_char_p),\n",
      "                 (\"q_aln_str\", c_char_p)]\n",
      "\n",
      "\n",
      "DWA = CDLL(\"./DWAlign.so\")\n",
      "DWA.align.argtypes = [ POINTER(c_char), c_long, POINTER(c_char), c_long, c_long, c_long ] \n",
      "DWA.align.restype = POINTER(Alignment)"
     ],
     "language": "python",
     "metadata": {},
     "outputs": [],
     "prompt_number": 23
    },
    {
     "cell_type": "markdown",
     "metadata": {},
     "source": [
      "Test the code out. We get identical results from the Python code."
     ]
    },
    {
     "cell_type": "code",
     "collapsed": false,
     "input": [
      "alignment = DWA.align(sim_seq1, len(sim_seq1),\n",
      "                      sim_seq2, len(sim_seq2),\n",
      "                      500, 30)\n",
      "print alignment[0].aln_str_size\n",
      "print alignment[0].dist\n",
      "print\n",
      "aln_str1 = alignment[0].q_aln_str\n",
      "aln_str2 = alignment[0].t_aln_str\n",
      "\n",
      "count = 0\n",
      "\n",
      "for chunk_start in range(0, len(aln_str1), 80):\n",
      "    print aln_str1[chunk_start:chunk_start+80]\n",
      "    print aln_str2[chunk_start:chunk_start+80]\n",
      "    print\n",
      "    count += 1\n",
      "    if count > 5:\n",
      "        break"
     ],
     "language": "python",
     "metadata": {},
     "outputs": [
      {
       "output_type": "stream",
       "stream": "stdout",
       "text": [
        "5560\n",
        "488\n",
        "\n",
        "GAACT-TCATCAAACTGCCATTTGTG-CACGCTAACA-ATAACCTGTGAAAACAGCTATCTCCCGGGGCATGCTATGAAC\n",
        "GAACTGTCATCAAACTGCCATTTGTGGCACGCTAACAGATAAC--GTGAAAACAGCTATCTCCCGGGGCATGCTATGAAC\n",
        "\n",
        "GA-TCAA-ATGTTTTG-TCGAG-CAACTGATTATCACGTCATCGTTTTTTTGCCATTGCCTGTTGTACTG-TTTTGTCCG\n",
        "G-GTCAACATGTTT-GATCGAGACA-CTGATTATCACGTCATCGTTTTTT-GCC-TTGCCTGTTGTACTGGTTTT-TCCG\n",
        "\n",
        "TTCTTCTCT-ATCGAACGGACCG-GCTAGTTACGCAGTGCGGCGGAAAT-GACCAGTTCTGGTTGCGCAATGCGCAA-AA\n",
        "TTCTTC-CTTATCGAACGGACCGCGCTAGTTACGCAGTGCGGCGGAAATTGACCAGTTCTGGTTGCGCAATGCGCAATAA\n",
        "\n",
        "ATCCGCGG-T-TTTCAAAATAACGGATTTATCCAGCATG-CCTGCATTGAAGGCGATTTCATCAAATTC-GTTCGAAGAG\n",
        "-TCCGCGGGTGTTTCAAAATAACGGATTTATCCAGCATGGC-TGCATTGAAGGCGATTTCATCAAAT-CAGTTCGAAGAG\n",
        "\n",
        "TAGAGGGTCGGCA-AGCCAGTTTGAGTTTTG-GATGGAATGCTTGAAAGGGGGGATCGCGCCGAAGACACAGCCTG-GAG\n",
        "TAGAGGGT-GGCATA-CCAGTTTGAGTTTTGTGATGGAA-GCT--AAAGGGGGGATCGCGCCGAAGACACAGCCTGTGAG\n",
        "\n",
        "TTCATCGA-TGTCCGTCCGGGCTGGCCAACGAAGCGCGTAATCCGCCTATATGGCTGGCGA-GTTGGCTCAGATCGGCCT\n",
        "TTCATCGACT-TCCG-CCGGGCTGGCCAACGAAGCGCGTAATCCGCCTATATGGCTGGCGAAGTTGGCTCAGATCGGCCT\n",
        "\n"
       ]
      }
     ],
     "prompt_number": 24
    },
    {
     "cell_type": "code",
     "collapsed": false,
     "input": [
      "alignment = DWA.align(sim_seq3, len(sim_seq3),\n",
      "                      sim_seq4, len(sim_seq4),\n",
      "                      3000, 150)\n",
      "print alignment[0].aln_str_size\n",
      "print alignment[0].dist\n",
      "print\n",
      "aln_str1 = alignment[0].q_aln_str\n",
      "aln_str2 = alignment[0].t_aln_str\n",
      "\n",
      "count = 0\n",
      "\n",
      "for chunk_start in range(0, len(aln_str1), 80):\n",
      "    print aln_str1[chunk_start:chunk_start+80]\n",
      "    print aln_str2[chunk_start:chunk_start+80]\n",
      "    print\n",
      "    count += 1\n",
      "    if count > 5:\n",
      "        break"
     ],
     "language": "python",
     "metadata": {},
     "outputs": [
      {
       "output_type": "stream",
       "stream": "stdout",
       "text": [
        "6012\n",
        "1372\n",
        "\n",
        "-A-CTGTTCATCAAACTGCCATT--GTGCACAGCC-AACAATACATCTGTTGAAAACA-GCTATCTCCCGGGGCCATGCT\n",
        "GAACTGT-CATCAAACTGC-ATTCTGTGCAC-GC-TA-CAATA-A-C-GT-GAAAACACGCTATCTCCCGGGGC-ATGCT\n",
        "\n",
        "GATGAACG-ATCAAA-T-TTTGT-CTGAAGACACTG-A-T-ATCACGTCATCGTTTTGTGCC-ACTTGC-TGT-GTATCT\n",
        "-ATGAACGGA-CAAACTGTTTGTAC-GA-GACACTGCACTTATCACGTCAT-GTTTT-TGCCTA-T-GCCTGTTGTA-CT\n",
        "\n",
        "GAG-TTT-TGTC-CGTTCTCTCTT-TC-AACC-GGACCA-GGCT--GTTACGCAGTGCGGCTGGAA-TT-GACCAGTTCT\n",
        "G-GGTTTATG-CGCGTTCTC-CTTATCGAAC-TGGACC-CGGCTACGTTACGCAGTGCGGC-GGAAATTCGACCAGT-CT\n",
        "\n",
        "GGTG-CAGC-AATGCGCCAAATAATCCCG-CG--T-TTTCAAAATA-ACGGATTTATCCAGCATGCT-GCATTGAAGAGC\n",
        "G-T-TC-GCGAATG-GC-AAATAATCC-GGCGGGTCTTTCAAAATACACGGATT-ATCCAGCATGC-CGCATTGAAG-GC\n",
        "\n",
        "GATTTCATTCAAATCG-TGTCGAAG-AGTAGAGGG-C-GGTCT-AACCAGTT-GAGTTTGG-TGAGA-GCTT-AAAGGGG\n",
        "GATT-CAT-CAA-TCGCT-TCGAAGGAGTAGAGG-TCTGG-C-GAA--AGTTTGA-TTTGGATG-GAAGCT-GAAAGGGG\n",
        "\n",
        "GGATCGCGCCGAAG-ACTACTA-CCTAGTGAGCTT-ATCAGATT--CCGCCGGGC-TGGCCCTAACG-AAAGCGCGTAAT\n",
        "GGATCGCGCCGAAGCAC-AC-AGCCT-G-GAG-TTCATC-G-TTTTCCGCCGGGCCTGGCC--A-CGTAA-GCGC-TA-T\n",
        "\n"
       ]
      }
     ],
     "prompt_number": 25
    },
    {
     "cell_type": "markdown",
     "metadata": {},
     "source": [
      "Let's do some timing test."
     ]
    },
    {
     "cell_type": "code",
     "collapsed": false,
     "input": [
      "def test_timing1():\n",
      "    for i in range(100):\n",
      "        alignment = DWA.align(sim_seq1, len(sim_seq1),\n",
      "                              sim_seq2, len(sim_seq2),\n",
      "                              600, 100)\n",
      "        DWA.free_alignment(alignment)\n",
      "    \n",
      "def test_timing2():\n",
      "    for i in range(100):\n",
      "        alignment = DWA.align(sim_seq3, len(sim_seq3),\n",
      "                              sim_seq4, len(sim_seq4),\n",
      "                              2000, 150)\n",
      "        DWA.free_alignment(alignment)"
     ],
     "language": "python",
     "metadata": {},
     "outputs": [],
     "prompt_number": 26
    },
    {
     "cell_type": "markdown",
     "metadata": {},
     "source": [
      "For the less divergent sequences, the performance is good. It takes about 0.016s to align the two 5kb sequences. "
     ]
    },
    {
     "cell_type": "code",
     "collapsed": false,
     "input": [
      "%timeit -n 10 test_timing1()"
     ],
     "language": "python",
     "metadata": {},
     "outputs": [
      {
       "output_type": "stream",
       "stream": "stdout",
       "text": [
        "10 loops, best of 3: 1.1 s per loop\n"
       ]
      }
     ],
     "prompt_number": 27
    },
    {
     "cell_type": "markdown",
     "metadata": {},
     "source": [
      "It takes slightly longer time to align the more divergent sequences."
     ]
    },
    {
     "cell_type": "code",
     "collapsed": false,
     "input": [
      "%timeit -n 10 test_timing2()"
     ],
     "language": "python",
     "metadata": {},
     "outputs": [
      {
       "output_type": "stream",
       "stream": "stdout",
       "text": [
        "10 loops, best of 3: 1.57 s per loop\n"
       ]
      }
     ],
     "prompt_number": 28
    },
    {
     "cell_type": "markdown",
     "metadata": {},
     "source": [
      "This may not be 100% fair. However, the timing results above show that the O(ND) alignment could have better performance than blasr's seed, spare dynamic programming and refinement stradegy. "
     ]
    },
    {
     "cell_type": "code",
     "collapsed": false,
     "input": [
      "!cat test_blasr1.sh "
     ],
     "language": "python",
     "metadata": {},
     "outputs": [
      {
       "output_type": "stream",
       "stream": "stdout",
       "text": [
        "\r\n",
        "for i in `seq 1 100`;\r\n",
        "do\r\n",
        "    blasr test_sim1.fa test_sim2.fa -maxLCPLength 15 -m 4 > /dev/null \r\n",
        "\r\n",
        "done\r\n"
       ]
      }
     ],
     "prompt_number": 29
    },
    {
     "cell_type": "code",
     "collapsed": false,
     "input": [
      "!time bash test_blasr1.sh"
     ],
     "language": "python",
     "metadata": {},
     "outputs": [
      {
       "output_type": "stream",
       "stream": "stdout",
       "text": [
        "\r\n",
        "real\t0m1.989s\r\n",
        "user\t0m1.468s\r\n",
        "sys\t0m0.378s\r\n"
       ]
      }
     ],
     "prompt_number": 30
    },
    {
     "cell_type": "code",
     "collapsed": false,
     "input": [
      "!cat test_blasr2.sh "
     ],
     "language": "python",
     "metadata": {},
     "outputs": [
      {
       "output_type": "stream",
       "stream": "stdout",
       "text": [
        "\r\n",
        "for i in `seq 1 100`;\r\n",
        "do\r\n",
        "    blasr test_sim3.fa test_sim4.fa -maxLCPLength 15 -m 4 > /dev/null \r\n",
        "\r\n",
        "done\r\n"
       ]
      }
     ],
     "prompt_number": 31
    },
    {
     "cell_type": "code",
     "collapsed": false,
     "input": [
      "!time bash test_blasr2.sh"
     ],
     "language": "python",
     "metadata": {},
     "outputs": [
      {
       "output_type": "stream",
       "stream": "stdout",
       "text": [
        "\r\n",
        "real\t0m2.251s\r\n",
        "user\t0m1.672s\r\n",
        "sys\t0m0.420s\r\n"
       ]
      }
     ],
     "prompt_number": 32
    },
    {
     "cell_type": "markdown",
     "metadata": {},
     "source": [
      "Let's see the timing results for two very similar sequences. First, we generate two sequences that are close."
     ]
    },
    {
     "cell_type": "code",
     "collapsed": false,
     "input": [
      "ins_rate = 0.005\n",
      "del_rate = 0.005\n",
      "mm_rate = 0.005\n",
      "sim_seq5 = get_sim_seq( seq, 42, (ins_rate, del_rate, mm_rate) )\n",
      "with open(\"test_sim5.fa\",\"w\") as f:\n",
      "    print >>f, \">sim5\"\n",
      "    print >>f, sim_seq5\n",
      "\n",
      "sim_seq6 = get_sim_seq( seq, 63, (ins_rate, del_rate, mm_rate) )\n",
      "with open(\"test_sim6.fa\",\"w\") as f:\n",
      "    print >>f, \">sim6\"\n",
      "    print >>f, sim_seq6\n",
      "!blasr test_sim5.fa test.fa -m 4 -noSplitSubreads\n",
      "!blasr test_sim6.fa test.fa -m 4 -noSplitSubreads\n",
      "!blasr test_sim5.fa test_sim6.fa -m 4 -noSplitSubreads"
     ],
     "language": "python",
     "metadata": {},
     "outputs": [
      {
       "output_type": "stream",
       "stream": "stdout",
       "text": [
        "sim5 0x81b0ff29_0125207 -25815 98.68 0 0 5275 5275 0 0 5261 5261 50 111017 -450.501 0 1\r\n"
       ]
      },
      {
       "output_type": "stream",
       "stream": "stdout",
       "text": [
        "sim6 0x81b0ff29_0125207 -25764 98.4396 0 0 5295 5295 0 0 5261 5261 50 111492 -478.936 0 1\r\n"
       ]
      },
      {
       "output_type": "stream",
       "stream": "stdout",
       "text": [
        "sim5 sim6 -25289 97.1828 0 0 5275 5275 0 0 5295 5295 50 111284 -820.934 0 1\r\n"
       ]
      }
     ],
     "prompt_number": 33
    },
    {
     "cell_type": "code",
     "collapsed": false,
     "input": [
      "def test_timing3():\n",
      "    for i in range(100):\n",
      "        alignment = DWA.align(sim_seq5, len(sim_seq5),\n",
      "                              sim_seq6, len(sim_seq6),\n",
      "                              200, 50)\n",
      "        DWA.free_alignment(alignment)"
     ],
     "language": "python",
     "metadata": {},
     "outputs": [],
     "prompt_number": 34
    },
    {
     "cell_type": "markdown",
     "metadata": {},
     "source": [
      "The timing result below shows that it takes less than 0.0002s for each aligment which is much better than blasr's 0.018s per alignment."
     ]
    },
    {
     "cell_type": "code",
     "collapsed": false,
     "input": [
      "%timeit -n 10 test_timing3()"
     ],
     "language": "python",
     "metadata": {},
     "outputs": [
      {
       "output_type": "stream",
       "stream": "stdout",
       "text": [
        "10 loops, best of 3: 161 ms per loop"
       ]
      },
      {
       "output_type": "stream",
       "stream": "stdout",
       "text": [
        "\n"
       ]
      }
     ],
     "prompt_number": 35
    },
    {
     "cell_type": "code",
     "collapsed": false,
     "input": [
      "!cat test_blasr3.sh \n",
      "!time bash test_blasr3.sh"
     ],
     "language": "python",
     "metadata": {},
     "outputs": [
      {
       "output_type": "stream",
       "stream": "stdout",
       "text": [
        "\r\n",
        "for i in `seq 1 100`;\r\n",
        "do\r\n",
        "    blasr test_sim5.fa test_sim6.fa -maxLCPLength 15 -m 4 > /dev/null \r\n",
        "\r\n",
        "done\r\n"
       ]
      },
      {
       "output_type": "stream",
       "stream": "stdout",
       "text": [
        "\r\n",
        "real\t0m2.142s\r\n",
        "user\t0m1.591s\r\n",
        "sys\t0m0.409s\r\n"
       ]
      }
     ],
     "prompt_number": 36
    },
    {
     "cell_type": "code",
     "collapsed": false,
     "input": [
      "def plot_kmer_location2( seq1, seq2, kmer_size = 8, max_deviation = 50):\n",
      "    kmer_location = []\n",
      "    for offset in range(-max_deviation, max_deviation):\n",
      "        match_list = []\n",
      "        if offset < 0:\n",
      "            padded_seq1 = seq1[abs(offset):] + \"N\" * abs(offset)\n",
      "        elif offset > 0:\n",
      "            padded_seq1 = \"N\" * offset + seq1[:-offset] \n",
      "        else:\n",
      "            padded_seq1 = seq1\n",
      "        max_k = 0\n",
      "        pos = 0\n",
      "        for c1, c2 in zip(padded_seq1, seq2):\n",
      "            pos += 1\n",
      "            if c1 == c2:\n",
      "                max_k += 1\n",
      "            else:\n",
      "                if max_k != 0:\n",
      "                    if max_k >= kmer_size:\n",
      "                        for i in range(pos-max_k, pos):\n",
      "                            kmer_location.append( (i, offset) )\n",
      "                max_k = 0\n",
      "                \n",
      "        if max_k != 0:\n",
      "            if max_k > kmer_size:\n",
      "                for i in range(pos-max_k, pos):\n",
      "                    kmer_location.append( (i, offset) )\n",
      "    kmer_location.sort()\n",
      "    x,y = zip(*kmer_location)\n",
      "    hist(y, bins=200, range=(-200,200))\n",
      "    xlim( (-200, 200) )"
     ],
     "language": "python",
     "metadata": {},
     "outputs": [],
     "prompt_number": 39
    },
    {
     "cell_type": "markdown",
     "metadata": {},
     "source": [
      "In the case that we do not have a priori knowledge about the similarity of the two sequences that get aligned, we can still do a quick k-mer match analysis to estimate the similarity between two sequences and use suche k-mer match statistics to estimate the proper \"bandwidth\"."
     ]
    },
    {
     "cell_type": "code",
     "collapsed": false,
     "input": [
      "plot_kmer_location2(sim_seq1, sim_seq2, kmer_size = 8, max_deviation = 200)"
     ],
     "language": "python",
     "metadata": {},
     "outputs": [
      {
       "output_type": "display_data",
       "png": "[encoded data removed]"
      }
     ],
     "prompt_number": 45
    },
    {
     "cell_type": "code",
     "collapsed": false,
     "input": [
      "plot_kmer_location2(sim_seq3, sim_seq4, kmer_size = 8, max_deviation = 200)"
     ],
     "language": "python",
     "metadata": {},
     "outputs": [
      {
       "output_type": "display_data",
       "png": "[encoded data removed]"
      }
     ],
     "prompt_number": 78
    },
    {
     "cell_type": "code",
     "collapsed": false,
     "input": [
      "plot_kmer_location2(sim_seq5, sim_seq6, kmer_size = 8, max_deviation = 200)"
     ],
     "language": "python",
     "metadata": {},
     "outputs": [
      {
       "output_type": "display_data",
       "png": "[encoded data removed]"
      }
     ],
     "prompt_number": 47
    },
    {
     "cell_type": "markdown",
     "metadata": {},
     "source": [
      "Also, if the two sequences used as inputs for the alignment has big offset, it might be better to use k-mer tricks to determine the offset and do some pre-processing for alignment. Otherwise, there will be some artifects of those regions where there should be no alignments. In the example below, we shift one of the sequence by 200 bp, one can see the position of the peaks of the matched k-mer also shifts accordingly."
     ]
    },
    {
     "cell_type": "code",
     "collapsed": false,
     "input": [
      "ins_rate = 0.05\n",
      "del_rate = 0.05\n",
      "mm_rate = 0.01\n",
      "sim_seq7 = get_sim_seq( seq, 42, (ins_rate, del_rate, mm_rate) )\n",
      "sim_seq7 = sim_seq7[200:]\n",
      "sim_seq8 = get_sim_seq( seq, 63, (ins_rate, del_rate, mm_rate) )\n"
     ],
     "language": "python",
     "metadata": {},
     "outputs": [],
     "prompt_number": 94
    },
    {
     "cell_type": "code",
     "collapsed": false,
     "input": [
      "plot_kmer_location2(sim_seq7, sim_seq8, kmer_size = 8, max_deviation =200 )"
     ],
     "language": "python",
     "metadata": {},
     "outputs": [
      {
       "output_type": "display_data",
       "png": "[encoded data removed]"
      }
     ],
     "prompt_number": 95
    },
    {
     "cell_type": "markdown",
     "metadata": {},
     "source": [
      "Some artifects in the alignment caused by the shifting observed. To properly align such sequences, one will need to trim the reads properly."
     ]
    },
    {
     "cell_type": "code",
     "collapsed": false,
     "input": [
      "aln_str1, aln_str2, D, explored_space, flag = OND_align_V3(sim_seq7, sim_seq8, 5000, 400)\n",
      "print D\n",
      "print\n",
      "count = 0\n",
      "for chunk_start in range(0, len(aln_str1), 80):\n",
      "    print aln_str1[chunk_start:chunk_start+80]\n",
      "    print aln_str2[chunk_start:chunk_start+80]\n",
      "    print\n",
      "    count += 1\n",
      "    if count > 5:\n",
      "        break"
     ],
     "language": "python",
     "metadata": {},
     "outputs": [
      {
       "output_type": "stream",
       "stream": "stdout",
       "text": [
        "1189\n",
        "\n",
        "-----TG----------G--TT--G--C--GC-AA--T---G------C--GC-A-----------A----AT-AACCG-\n",
        "CGAACTGTCATCAAACTGCATTCTGTGCACGCTAACATAACGTGAAAACACGCTATCTCCCGGGGCATGCTATGAAC-GG\n",
        "\n",
        "-C-----GGTTT-TA--A-A-A-T--A-A-C--G----------G--ATTT--------A-T----------CC------\n",
        "ACAAACTG-TTTGTACGAGACACTGCATATCACGTCATCTTTTTGCCATTTCCTGTTGTACTGGTGTTTAGTCCGTTCTC\n",
        "\n",
        "----A---G--C--A------T-G---C-C--TGC-----A--TTGA----G--G---CG-A-T--------T-TC----\n",
        "TCTTATCCGAACGGACCGCGCTAGTTACGCAGTGCGGCGGAAATTGACCACGTTGGTGCGCAATGCGCCAAATATCCGCG\n",
        "\n",
        "--------AA--TCAA---AT----C--G--T---T--T-----CG--A----A--GA-----GT--GA-GA--G-GG-T\n",
        "GGGTTTTCAAAAT-AACGGATTTATCCAGCATGCCTGCTTGAAGCGCGATTTCATCGAAAATCGTTCGAAGATAGAGGGT\n",
        "\n",
        "CGG-CAA-CCGTTTTGAGTTTTGCGATGGA-GCTTGATAAGGGGG-ATCGCGCCGAAGACACAGCCTGTTGTA-TTCATC\n",
        "CGGTCAAGCC-TTT-GAGTT--G-GATGGAAGCT-GA-AAGGGGGGATCGCGCCGAAGACACAGCCTGT-G-AGTTCATC\n",
        "\n",
        "GACTTCGCAC-GG-CTGGCCAACGAAGCGCGTAATCC--GCCTATATGGCTGGCGA-GTTGGCTCAGATCGGCCTG-TTG\n",
        "GACTTC-C-CCGGGCTG-CCAACGAAGCGCGTAATCCCAGCCTATATGGCTGGCGAAGTTGGCTCAGATCGGCCTGATTG\n",
        "\n"
       ]
      }
     ],
     "prompt_number": 96
    },
    {
     "cell_type": "markdown",
     "metadata": {},
     "source": [
      "The code and plot below demostrate the skewed \"d-wave-front\" due to the offset between the two sequences."
     ]
    },
    {
     "cell_type": "code",
     "collapsed": false,
     "input": [
      "d, k, x, y = zip(*explored_space)\n",
      "x = np.array(x)\n",
      "y = np.array(y)\n",
      "d = np.array(d)\n",
      "legends = []\n",
      "for i in range(10):\n",
      "    sx = x[d == i*200]\n",
      "    sy = y[d == i*200]\n",
      "    sx, sy = 0.5*(sx + sy), 0.5*(sx - sy)\n",
      "    plot(sx, sy, \".\", markersize = 1)\n",
      "    legends.append(\"%d\" % (i*200))\n",
      "legend(legends, loc=\"best\")\n",
      "xlabel(\"ave. pos\")\n",
      "ylabel(\"deviation\")\n",
      "xlim( (0,7000) )"
     ],
     "language": "python",
     "metadata": {},
     "outputs": [
      {
       "output_type": "pyout",
       "prompt_number": 97,
       "text": [
        "(0, 7000)"
       ]
      },
      {
       "output_type": "display_data",
       "png": "[encoded data removed]"
      }
     ],
     "prompt_number": 97
    },
    {
     "cell_type": "markdown",
     "metadata": {},
     "source": [
      "---------------- END"
     ]
    }
   ],
   "metadata": {}
  }
 ]
}